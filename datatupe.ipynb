{
 "cells": [
  {
   "cell_type": "code",
   "execution_count": 1,
   "metadata": {},
   "outputs": [
    {
     "data": {
      "text/plain": [
       "list"
      ]
     },
     "execution_count": 1,
     "metadata": {},
     "output_type": "execute_result"
    }
   ],
   "source": [
    "a=[1,8,9,25,36,65,58]\n",
    "type (a)\n"
   ]
  },
  {
   "cell_type": "code",
   "execution_count": 11,
   "metadata": {},
   "outputs": [
    {
     "name": "stdout",
     "output_type": "stream",
     "text": [
      "[1, 8, 9, 25, 36, 65, 58]\n",
      "[253, 215.668, 'guvi'] [1, 8, 9, 25, 36, 65, 58]\n"
     ]
    }
   ],
   "source": [
    "print(a)\n",
    "b=[253,215.668,\"guvi\"]\n",
    "print(b,a)\n"
   ]
  },
  {
   "cell_type": "code",
   "execution_count": 10,
   "metadata": {},
   "outputs": [
    {
     "name": "stdout",
     "output_type": "stream",
     "text": [
      "9\n",
      "[1, 8, 9, 25]\n",
      "[9, 25, 36, 65]\n",
      "[1, 9, 36, 58]\n",
      "[1, 8, 9, 25]\n",
      "[9, 25, 36, 65, 58]\n",
      "[58, 65, 36, 25, 9, 8, 1]\n"
     ]
    }
   ],
   "source": [
    "print(a[2])\n",
    "print(a[0:4])\n",
    "print(a[2:6])\n",
    "print(a[0:7:2])\n",
    "print(a[:4])\n",
    "print(a[2:])\n",
    "print(a[::-1])"
   ]
  }
 ],
 "metadata": {
  "kernelspec": {
   "display_name": "Python 3",
   "language": "python",
   "name": "python3"
  },
  "language_info": {
   "codemirror_mode": {
    "name": "ipython",
    "version": 3
   },
   "file_extension": ".py",
   "mimetype": "text/x-python",
   "name": "python",
   "nbconvert_exporter": "python",
   "pygments_lexer": "ipython3",
   "version": "3.12.2"
  }
 },
 "nbformat": 4,
 "nbformat_minor": 2
}
